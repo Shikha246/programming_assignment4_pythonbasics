{
 "cells": [
  {
   "cell_type": "markdown",
   "id": "876b5362",
   "metadata": {},
   "source": [
    "## 1. Write a Python Program to Find the Factorial of a Number"
   ]
  },
  {
   "cell_type": "code",
   "execution_count": 10,
   "id": "a7d5e97b",
   "metadata": {},
   "outputs": [
    {
     "name": "stdout",
     "output_type": "stream",
     "text": [
      "Enter a number:0\n",
      "The factorial of 0 is 1\n"
     ]
    }
   ],
   "source": [
    "num= int(input(\"Enter a number:\"))\n",
    "f=1\n",
    "for i in range(1,num+1):\n",
    "    f=f*i\n",
    "    \n",
    "        \n",
    "print(f\"The factorial of {num} is {f}\")\n",
    "        "
   ]
  },
  {
   "cell_type": "markdown",
   "id": "01bf5706",
   "metadata": {},
   "source": [
    "## 2. Write a Python Program to Display the multiplication Table?"
   ]
  },
  {
   "cell_type": "code",
   "execution_count": 14,
   "id": "84d8b7d8",
   "metadata": {},
   "outputs": [
    {
     "name": "stdout",
     "output_type": "stream",
     "text": [
      "Enter a number:4\n",
      "4 x 1=4\n",
      "4 x 2=8\n",
      "4 x 3=12\n",
      "4 x 4=16\n",
      "4 x 5=20\n",
      "4 x 6=24\n",
      "4 x 7=28\n",
      "4 x 8=32\n",
      "4 x 9=36\n",
      "4 x 10=40\n"
     ]
    }
   ],
   "source": [
    "num=int(input(\"Enter a number:\"))\n",
    "\n",
    "for i in range(1,11):\n",
    "    t=num*i\n",
    "    print(f\"{num} x {i}={t}\")"
   ]
  },
  {
   "cell_type": "markdown",
   "id": "62d5ca6a",
   "metadata": {},
   "source": [
    "## 3. Write a Python Program to Print the Fibonacci sequence?"
   ]
  },
  {
   "cell_type": "code",
   "execution_count": 18,
   "id": "aee44bec",
   "metadata": {},
   "outputs": [
    {
     "name": "stdout",
     "output_type": "stream",
     "text": [
      "Enter a number:4\n",
      "0\n",
      "1\n",
      "1\n",
      "2\n"
     ]
    }
   ],
   "source": [
    "num= int(input(\"Enter a number:\"))\n",
    "a=0\n",
    "b=1\n",
    "print(a)\n",
    "print(b)\n",
    "for i in range(3,num+1):\n",
    "    c=a+b\n",
    "    a=b\n",
    "    b=c\n",
    "    print(c)"
   ]
  },
  {
   "cell_type": "markdown",
   "id": "9e91184b",
   "metadata": {},
   "source": [
    "## 4. Write a Python Program to Check Armstrong Number?"
   ]
  },
  {
   "cell_type": "code",
   "execution_count": 21,
   "id": "5311f369",
   "metadata": {},
   "outputs": [
    {
     "name": "stdout",
     "output_type": "stream",
     "text": [
      "Enter a number:1\n",
      "1 is an armstrong number\n"
     ]
    }
   ],
   "source": [
    "n= int(input(\"Enter a number:\"))\n",
    "sum=0\n",
    "order= len(str(n))\n",
    "copy_n=n\n",
    "while(n>0):\n",
    "    digit=n%10\n",
    "    sum+=digit**order\n",
    "    n=n//10\n",
    "if(sum==copy_n):\n",
    "    print(f\"{copy_n} is an armstrong number\")\n",
    "else:\n",
    "    print(f\"{copy_n} is not an armstrong number\")"
   ]
  },
  {
   "cell_type": "markdown",
   "id": "2874e1bc",
   "metadata": {},
   "source": [
    "## 5. Write a Python Program to Find Armstrong Number in an Interval?"
   ]
  },
  {
   "cell_type": "code",
   "execution_count": 26,
   "id": "78c1fd82",
   "metadata": {},
   "outputs": [
    {
     "name": "stdout",
     "output_type": "stream",
     "text": [
      "Enter the lower limit:100\n",
      "Enter the upper limit1000\n",
      "153 is an armstrong number\n",
      "370 is an armstrong number\n",
      "371 is an armstrong number\n",
      "407 is an armstrong number\n"
     ]
    }
   ],
   "source": [
    "lower_limit=int(input(\"Enter the lower limit:\"))\n",
    "upper_limit= int(input(\"Enter the upper limit\"))\n",
    "for i in range(lower_limit,upper_limit+1):\n",
    "    order=len(str(i))\n",
    "    sum=0\n",
    "    copy_n=i\n",
    "    while(i>0):\n",
    "        digit=i%10\n",
    "        sum+=digit**order\n",
    "        i=i//10\n",
    "    if(sum==copy_n):\n",
    "        print(f\"{copy_n} is an armstrong number\")\n",
    "    \n",
    "    \n",
    "\n",
    "    "
   ]
  },
  {
   "cell_type": "markdown",
   "id": "ee7a30a0",
   "metadata": {},
   "source": [
    "## 6. Write a Python Program to Find the Sum of Natural Numbers?"
   ]
  },
  {
   "cell_type": "code",
   "execution_count": 1,
   "id": "143a4fdd",
   "metadata": {},
   "outputs": [
    {
     "name": "stdout",
     "output_type": "stream",
     "text": [
      "Enter a natural number:7\n",
      "The sum of natural number 7 is 28\n"
     ]
    }
   ],
   "source": [
    "num=int(input(\"Enter a natural number:\"))\n",
    "s=0\n",
    "for i in range(1,num+1):\n",
    "    s+=i\n",
    "print(f\"The sum of natural number {num} is {s}\")    \n"
   ]
  },
  {
   "cell_type": "code",
   "execution_count": null,
   "id": "a1fbaa77",
   "metadata": {},
   "outputs": [],
   "source": []
  }
 ],
 "metadata": {
  "kernelspec": {
   "display_name": "Python 3 (ipykernel)",
   "language": "python",
   "name": "python3"
  },
  "language_info": {
   "codemirror_mode": {
    "name": "ipython",
    "version": 3
   },
   "file_extension": ".py",
   "mimetype": "text/x-python",
   "name": "python",
   "nbconvert_exporter": "python",
   "pygments_lexer": "ipython3",
   "version": "3.9.7"
  }
 },
 "nbformat": 4,
 "nbformat_minor": 5
}
